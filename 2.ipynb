{
 "cells": [
  {
   "cell_type": "code",
   "execution_count": null,
   "metadata": {
    "id": "uUm8WsZ2H3Ma"
   },
   "outputs": [],
   "source": [
    "import numpy as np\n",
    "from scipy.io import loacadmat\n",
    "from scipy.optimize import minimize"
   ]
  },
  {
   "cell_type": "code",
   "execution_count": null,
   "metadata": {
    "id": "0tNOs0PwIYkI"
   },
   "outputs": [],
   "source": [
    "def preprocess():\n",
    "    \"\"\"\n",
    "     Input:\n",
    "     Although this function doesn't have any input, you are required to load\n",
    "     the MNIST data set from file 'mnist_all.mat'.\n",
    "z\n",
    "     Output:\n",
    "     train_data: matrix of training set. Each row of train_data contains\n",
    "       feature vector of a image\n",
    "     train_label: vector of label corresponding to each image in the training\n",
    "       set\n",
    "     validation_data: matrix of training set. Each row of validation_data\n",
    "       contains feature vector of a image\n",
    "     validation_label: vector of label corresponding to each image in the\n",
    "       training set\n",
    "     test_data: matrix of training set. Each row of test_data contains\n",
    "       feature vector of a image\n",
    "     test_label: vector of label corresponding to each image in the testing\n",
    "       set\n",
    "    \"\"\"\n",
    "\n",
    "    mat = loadmat('mnist_all.mat')  # loads the MAT object as a Dictionary\n",
    "\n",
    "    n_feature = mat.get(\"train1\").shape[1]\n",
    "    n_sample = 0\n",
    "    for i in range(10):\n",
    "        n_sample = n_sample + mat.get(\"train\" + str(i)).shape[0]\n",
    "    n_validation = 1000\n",
    "    n_train = n_sample - 10 * n_validation\n",
    "\n",
    "    # Construct validation data\n",
    "    validation_data = np.zeros((10 * n_validation, n_feature))\n",
    "    for i in range(10):\n",
    "        validation_data[i * n_validation:(i + 1) * n_validation, :] = mat.get(\"train\" + str(i))[0:n_validation, :]\n",
    "\n",
    "    # Construct validation label\n",
    "    validation_label = np.ones((10 * n_validation, 1))\n",
    "    for i in range(10):\n",
    "        validation_label[i * n_validation:(i + 1) * n_validation, :] = i * np.ones((n_validation, 1))\n",
    "\n",
    "    # Construct training data and label\n",
    "    train_data = np.zeros((n_train, n_feature))\n",
    "    train_label = np.zeros((n_train, 1))\n",
    "    temp = 0\n",
    "    for i in range(10):\n",
    "        size_i = mat.get(\"train\" + str(i)).shape[0]\n",
    "        train_data[temp:temp + size_i - n_validation, :] = mat.get(\"train\" + str(i))[n_validation:size_i, :]\n",
    "        train_label[temp:temp + size_i - n_validation, :] = i * np.ones((size_i - n_validation, 1))\n",
    "        temp = temp + size_i - n_validation\n",
    "\n",
    "    # Construct test data and label\n",
    "    n_test = 0\n",
    "    for i in range(10):\n",
    "        n_test = n_test + mat.get(\"test\" + str(i)).shape[0]\n",
    "    test_data = np.zeros((n_test, n_feature))\n",
    "    test_label = np.zeros((n_test, 1))\n",
    "    temp = 0\n",
    "    for i in range(10):\n",
    "        size_i = mat.get(\"test\" + str(i)).shape[0]\n",
    "        test_data[temp:temp + size_i, :] = mat.get(\"test\" + str(i))\n",
    "        test_label[temp:temp + size_i, :] = i * np.ones((size_i, 1))\n",
    "        temp = temp + size_i\n",
    "\n",
    "    # Delete features which don't provide any useful information for classifiers\n",
    "    sigma = np.std(train_data, axis=0)\n",
    "    index = np.array([])\n",
    "    for i in range(n_feature):\n",
    "        if (sigma[i] > 0.001):\n",
    "            index = np.append(index, [i])\n",
    "    train_data = train_data[:, index.astype(int)]\n",
    "    validation_data = validation_data[:, index.astype(int)]\n",
    "    test_data = test_data[:, index.astype(int)]\n",
    "\n",
    "    # Scale data to 0 and 1\n",
    "    train_data /= 255.0\n",
    "    validation_data /= 255.0\n",
    "    test_data /= 255.0\n",
    "\n",
    "    return train_data, train_label, validation_data, validation_label, test_data, test_label\n"
   ]
  },
  {
   "cell_type": "code",
   "execution_count": 3,
   "metadata": {
    "id": "rZX0sxhhIjPH"
   },
   "outputs": [],
   "source": [
    "def sigmoid(z):\n",
    "    return 1.0 / (1.0 + np.exp(-z))\n"
   ]
  },
  {
   "cell_type": "code",
   "execution_count": 4,
   "metadata": {
    "id": "_j3efNfcIl3Y"
   },
   "outputs": [],
   "source": [
    "def sigmoid(z):\n",
    "    return 1.0 / (1.0 + np.exp(-z))\n",
    "\n",
    "\n",
    "def blrObjFunction(initialWeights, *args):\n",
    "    \"\"\"\n",
    "    blrObjFunction computes 2-class Logistic Regression error function and\n",
    "    its gradient.\n",
    "\n",
    "    Input:\n",
    "        initialWeights: the weight vector (w_k) of size (D + 1) x 1\n",
    "        train_data: the data matrix of size N x D\n",
    "        labeli: the label vector (y_k) of size N x 1 where each entry can be either 0 or 1 representing the label of corresponding feature vector\n",
    "\n",
    "    Output:\n",
    "        error: the scalar value of error function of 2-class logistic regression\n",
    "        error_grad: the vector of size (D+1) x 1 representing the gradient of\n",
    "                    error function\n",
    "    \"\"\"\n",
    "    train_data, labeli = args\n",
    "\n",
    "    n_data = train_data.shape[0]\n",
    "    train_data = np.hstack((np.ones((n_data, 1)), train_data))\n",
    "\n",
    "    # Reshape initialWeights\n",
    "    initialWeights = initialWeights.reshape(-1, 1)\n",
    "\n",
    "    # Sigmoid function\n",
    "    theta = sigmoid(np.dot(train_data, initialWeights))\n",
    "\n",
    "    # Error function\n",
    "    error = -np.mean(labeli * np.log(theta) + (1 - labeli) * np.log(1 - theta))\n",
    "\n",
    "    # Gradient calculation\n",
    "    error_grad = np.dot(train_data.T, (theta - labeli)) / n_data\n",
    "\n",
    "    return error, error_grad.flatten()\n",
    "\n",
    "\n",
    "    return error, error_grad\n"
   ]
  },
  {
   "cell_type": "code",
   "execution_count": 5,
   "metadata": {
    "id": "GwkiDZUyI_eM"
   },
   "outputs": [],
   "source": [
    "def blrPredict(W, data):\n",
    "    n_data = data.shape[0]\n",
    "\n",
    "    # Add bias to data\n",
    "    data = np.hstack((np.ones((n_data, 1)), data))\n",
    "\n",
    "    # Compute probabilities\n",
    "    probabilities = sigmoid(np.dot(data, W))\n",
    "\n",
    "    # Find the class with maximum probability\n",
    "    label = np.argmax(probabilities, axis=1).reshape(-1, 1)\n",
    "\n",
    "    return label\n"
   ]
  },
  {
   "cell_type": "code",
   "execution_count": 6,
   "metadata": {
    "id": "taJ1UIPvJFgj"
   },
   "outputs": [],
   "source": [
    "def mlrObjFunction(params, *args):\n",
    "    train_data, labeli = args\n",
    "\n",
    "    # Add bias to train_data\n",
    "    n_data = train_data.shape[0]\n",
    "    train_data = np.hstack((np.ones((n_data, 1)), train_data))\n",
    "\n",
    "    # Reshape parameters\n",
    "    params = params.reshape((train_data.shape[1], -1))\n",
    "\n",
    "    # Softmax function\n",
    "    theta = np.exp(np.dot(train_data, params))\n",
    "    theta /= np.sum(theta, axis=1, keepdims=True)\n",
    "\n",
    "    # Error function\n",
    "    error = -np.sum(labeli * np.log(theta)) / n_data\n",
    "\n",
    "    # Gradient calculation\n",
    "    error_grad = np.dot(train_data.T, (theta - labeli)) / n_data\n",
    "\n",
    "    return error, error_grad.flatten()\n"
   ]
  },
  {
   "cell_type": "code",
   "execution_count": 7,
   "metadata": {
    "id": "VkKz_VnwJKPQ"
   },
   "outputs": [],
   "source": [
    "def mlrPredict(W, data):\n",
    "    n_data = data.shape[0]\n",
    "\n",
    "    # Add bias to data\n",
    "    data = np.hstack((np.ones((n_data, 1)), data))\n",
    "\n",
    "    # Compute probabilities\n",
    "    probabilities = np.exp(np.dot(data, W))\n",
    "    probabilities /= np.sum(probabilities, axis=1, keepdims=True)\n",
    "\n",
    "    # Find the class with maximum probability\n",
    "    label = np.argmax(probabilities, axis=1).reshape(-1, 1)\n",
    "\n",
    "    return label\n"
   ]
  },
  {
   "cell_type": "code",
   "execution_count": 8,
   "metadata": {
    "colab": {
     "base_uri": "https://localhost:8080/"
    },
    "id": "DNK5ON1rJN4N",
    "outputId": "599bb78d-c5c3-469c-b79d-510c7b8ca73a"
   },
   "outputs": [
    {
     "name": "stdout",
     "output_type": "stream",
     "text": [
      "\n",
      " Training set Accuracy:92.664%\n",
      "\n",
      " Validation set Accuracy:91.52%\n",
      "\n",
      " Testing set Accuracy:91.99000000000001%\n"
     ]
    }
   ],
   "source": [
    "# Logistic Regression Script\n",
    "train_data, train_label, validation_data, validation_label, test_data, test_label = preprocess()\n",
    "\n",
    "# Number of classes\n",
    "n_class = 10\n",
    "\n",
    "# Number of training samples and features\n",
    "n_train = train_data.shape[0]\n",
    "n_feature = train_data.shape[1]\n",
    "\n",
    "# Prepare label matrix for one-vs-all classification\n",
    "Y = np.zeros((n_train, n_class))\n",
    "for i in range(n_class):\n",
    "    Y[:, i] = (train_label == i).astype(int).ravel()\n",
    "\n",
    "# Logistic Regression with Gradient Descent\n",
    "W = np.zeros((n_feature + 1, n_class))\n",
    "initialWeights = np.zeros((n_feature + 1, 1)).flatten()\n",
    "opts = {'maxiter': 100}\n",
    "for i in range(n_class):\n",
    "    labeli = Y[:, i].reshape(n_train, 1)\n",
    "    args = (train_data, labeli)\n",
    "    nn_params = minimize(blrObjFunction, initialWeights, jac=True, args=args, method='CG', options=opts)\n",
    "    W[:, i] = nn_params.x.reshape((n_feature + 1,))\n",
    "\n",
    "# Find the accuracy on Training Dataset\n",
    "predicted_label = blrPredict(W, train_data)\n",
    "print('\\n Training set Accuracy:' + str(100 * np.mean((predicted_label == train_label).astype(float))) + '%')\n",
    "\n",
    "# Find the accuracy on Validation Dataset\n",
    "predicted_label = blrPredict(W, validation_data)\n",
    "print('\\n Validation set Accuracy:' + str(100 * np.mean((predicted_label == validation_label).astype(float))) + '%')\n",
    "\n",
    "# Find the accuracy on Testing Dataset\n",
    "predicted_label = blrPredict(W, test_data)\n",
    "print('\\n Testing set Accuracy:' + str(100 * np.mean((predicted_label == test_label).astype(float))) + '%')\n",
    "\n",
    "\n",
    "\n"
   ]
  },
  {
   "cell_type": "code",
   "execution_count": 9,
   "metadata": {
    "id": "XdmUEn8IoAe7"
   },
   "outputs": [
    {
     "name": "stdout",
     "output_type": "stream",
     "text": [
      "SVM with Linear Kernel:\n",
      "Training Accuracy: 97.286 %\n",
      "Validation Accuracy: 93.64 %\n",
      "Testing Accuracy: 93.78 %\n",
      "\n",
      "SVM with RBF Kernel (gamma=1):\n",
      "Training Accuracy: 100.0 %\n",
      "Validation Accuracy: 15.479999999999999 %\n",
      "Testing Accuracy: 17.14 %\n",
      "\n",
      "SVM with RBF Kernel (default gamma):\n",
      "Training Accuracy: 98.982 %\n",
      "Validation Accuracy: 97.89 %\n",
      "Testing Accuracy: 97.87 %\n"
     ]
    },
    {
     "data": {
      "image/png": "[encoded data removed]",
      "text/plain": [
       "<Figure size 640x480 with 1 Axes>"
      ]
     },
     "metadata": {},
     "output_type": "display_data"
    },
    {
     "name": "stderr",
     "output_type": "stream",
     "text": [
      "C:\\Users\\SHAIK AREEF\\AppData\\Local\\Temp\\ipykernel_13096\\596699325.py:49: DeprecationWarning: Use of `minimize` with `x0.ndim != 1` is deprecated. Currently, singleton dimensions will be removed from `x0`, but an error will be raised in SciPy 1.11.0.\n",
      "  nn_params = minimize(mlrObjFunction, initialWeights_b, jac=True, args=args_b, method='CG', options=opts_b)\n"
     ]
    },
    {
     "name": "stdout",
     "output_type": "stream",
     "text": [
      "\n",
      " Training set Accuracy:93.448%\n",
      "\n",
      " Validation set Accuracy:92.47999999999999%\n"
     ]
    },
    {
     "ename": "UFuncTypeError",
     "evalue": "ufunc 'add' did not contain a loop with signature matching types (dtype('float64'), dtype('<U1')) -> None",
     "output_type": "error",
     "traceback": [
      "\u001b[1;31m---------------------------------------------------------------------------\u001b[0m",
      "\u001b[1;31mUFuncTypeError\u001b[0m                            Traceback (most recent call last)",
      "Cell \u001b[1;32mIn[9], line 62\u001b[0m\n\u001b[0;32m     60\u001b[0m \u001b[38;5;66;03m# Find the accuracy on Testing Dataset\u001b[39;00m\n\u001b[0;32m     61\u001b[0m predicted_label_b \u001b[38;5;241m=\u001b[39m mlrPredict(W_b, test_data)\n\u001b[1;32m---> 62\u001b[0m \u001b[38;5;28mprint\u001b[39m(\u001b[38;5;124m'\u001b[39m\u001b[38;5;130;01m\\n\u001b[39;00m\u001b[38;5;124m Testing set Accuracy:\u001b[39m\u001b[38;5;124m'\u001b[39m \u001b[38;5;241m+\u001b[39m \u001b[38;5;28mstr\u001b[39m(\u001b[38;5;241m100\u001b[39m \u001b[38;5;241m*\u001b[39m np\u001b[38;5;241m.\u001b[39mmean((predicted_label_b \u001b[38;5;241m==\u001b[39m test_label)\u001b[38;5;241m.\u001b[39mastype(\u001b[38;5;28mfloat\u001b[39m)) \u001b[38;5;241m+\u001b[39m \u001b[38;5;124m'\u001b[39m\u001b[38;5;124m%\u001b[39m\u001b[38;5;124m'\u001b[39m))\n",
      "\u001b[1;31mUFuncTypeError\u001b[0m: ufunc 'add' did not contain a loop with signature matching types (dtype('float64'), dtype('<U1')) -> None"
     ]
    }
   ],
   "source": [
    "from sklearn.svm import SVC\n",
    "\n",
    "# Linear Kernel\n",
    "svm_linear = SVC(kernel='linear')\n",
    "svm_linear.fit(train_data, train_label.ravel())\n",
    "print('SVM with Linear Kernel:')\n",
    "print('Training Accuracy:', svm_linear.score(train_data, train_label) * 100, '%')\n",
    "print('Validation Accuracy:', svm_linear.score(validation_data, validation_label) * 100, '%')\n",
    "print('Testing Accuracy:', svm_linear.score(test_data, test_label) * 100, '%')\n",
    "\n",
    "# RBF Kernel (gamma=1)\n",
    "svm_rbf_1 = SVC(kernel='rbf', gamma=1)\n",
    "svm_rbf_1.fit(train_data, train_label.ravel())\n",
    "print('\\nSVM with RBF Kernel (gamma=1):')\n",
    "print('Training Accuracy:', svm_rbf_1.score(train_data, train_label) * 100, '%')\n",
    "print('Validation Accuracy:', svm_rbf_1.score(validation_data, validation_label) * 100, '%')\n",
    "print('Testing Accuracy:', svm_rbf_1.score(test_data, test_label) * 100, '%')\n",
    "\n",
    "# RBF Kernel (default gamma)\n",
    "svm_rbf_default = SVC(kernel='rbf')\n",
    "svm_rbf_default.fit(train_data, train_label.ravel())\n",
    "print('\\nSVM with RBF Kernel (default gamma):')\n",
    "print('Training Accuracy:', svm_rbf_default.score(train_data, train_label) * 100, '%')\n",
    "print('Validation Accuracy:', svm_rbf_default.score(validation_data, validation_label) * 100, '%')\n",
    "print('Testing Accuracy:', svm_rbf_default.score(test_data, test_label) * 100, '%')\n",
    "\n",
    "# Varying C values\n",
    "C_values = list(range(1, 101, 10))\n",
    "accuracy_test = []\n",
    "for C in C_values:\n",
    "    svm_rbf_c = SVC(kernel='rbf', C=C)\n",
    "    svm_rbf_c.fit(train_data, train_label.ravel())\n",
    "    accuracy_test.append(svm_rbf_c.score(test_data, test_label) * 100)\n",
    "\n",
    "# Plot Accuracy vs. C\n",
    "import matplotlib.pyplot as plt\n",
    "plt.plot(C_values, accuracy_test)\n",
    "plt.xlabel('C values')\n",
    "plt.ylabel('Testing Accuracy')\n",
    "plt.title('Accuracy vs. C for RBF Kernel')\n",
    "plt.show()\n",
    "\n",
    "# Extra Credit: Multi-Class Logistic Regression Script\n",
    "W_b = np.zeros((n_feature + 1, n_class))\n",
    "initialWeights_b = np.zeros((n_feature + 1, n_class))\n",
    "opts_b = {'maxiter': 100}\n",
    "\n",
    "args_b = (train_data, Y)\n",
    "nn_params = minimize(mlrObjFunction, initialWeights_b, jac=True, args=args_b, method='CG', options=opts_b)\n",
    "W_b = nn_params.x.reshape((n_feature + 1, n_class))\n",
    "\n",
    "# Find the accuracy on Training Dataset\n",
    "predicted_label_b = mlrPredict(W_b, train_data)\n",
    "print('\\n Training set Accuracy:' + str(100 * np.mean((predicted_label_b == train_label).astype(float))) + '%')\n",
    "\n",
    "# Find the accuracy on Validation Dataset\n",
    "predicted_label_b = mlrPredict(W_b, validation_data)\n",
    "print('\\n Validation set Accuracy:' + str(100 * np.mean((predicted_label_b == validation_label).astype(float))) + '%')\n",
    "\n",
    "# Find the accuracy on Testing Dataset\n",
    "predicted_label_b = mlrPredict(W_b, test_data)\n",
    "print('\\n Testing set Accuracy:' + str(100 * np.mean((predicted_label_b == test_label).astype(float)) + '%'))\n"
   ]
  }
 ],
 "metadata": {
  "colab": {
   "provenance": []
  },
  "kernelspec": {
   "display_name": "base",
   "language": "python",
   "name": "python3"
  },
  "language_info": {
   "codemirror_mode": {
    "name": "ipython",
    "version": 3
   },
   "file_extension": ".py",
   "mimetype": "text/x-python",
   "name": "python",
   "nbconvert_exporter": "python",
   "pygments_lexer": "ipython3",
   "version": "3.11.4"
  }
 },
 "nbformat": 4,
 "nbformat_minor": 0
}
